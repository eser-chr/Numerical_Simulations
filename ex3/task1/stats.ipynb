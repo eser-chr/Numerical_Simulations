{
 "cells": [
  {
   "cell_type": "code",
   "execution_count": 1,
   "metadata": {},
   "outputs": [],
   "source": [
    "import subprocess\n",
    "import csv\n",
    "import numpy as np\n",
    "from tqdm import tqdm\n",
    "import matplotlib.pyplot as plt\n",
    "import pandas as pd"
   ]
  },
  {
   "cell_type": "code",
   "execution_count": 2,
   "metadata": {},
   "outputs": [
    {
     "name": "stderr",
     "output_type": "stream",
     "text": [
      "100%|██████████| 10/10 [02:34<00:00, 15.43s/it]\n"
     ]
    }
   ],
   "source": [
    "cmd = ['./cg', 'bcsstk13.mtx', 'foo']\n",
    "samples = np.logspace(0,6,10,dtype=int)\n",
    "output_file = 'output.csv'\n",
    "with open(output_file, 'w') as f:\n",
    "    writer = csv.writer(f)\n",
    "    writer.writerow(['Iterations', 'ratio', 'Anorm'])\n",
    "    for sample in tqdm(samples):\n",
    "        cmd[2] = f'{sample}'\n",
    "        res = subprocess.run(cmd, stdout=subprocess.PIPE, text=True)\n",
    "        output = res.stdout.strip()\n",
    "        x, y, z = map(float, output.split(','))\n",
    "        writer.writerow([x,y,z])\n"
   ]
  },
  {
   "cell_type": "code",
   "execution_count": 3,
   "metadata": {},
   "outputs": [],
   "source": [
    "data = pd.read_csv(output_file)"
   ]
  },
  {
   "cell_type": "code",
   "execution_count": 4,
   "metadata": {},
   "outputs": [
    {
     "data": {
      "text/html": [
       "<div>\n",
       "<style scoped>\n",
       "    .dataframe tbody tr th:only-of-type {\n",
       "        vertical-align: middle;\n",
       "    }\n",
       "\n",
       "    .dataframe tbody tr th {\n",
       "        vertical-align: top;\n",
       "    }\n",
       "\n",
       "    .dataframe thead th {\n",
       "        text-align: right;\n",
       "    }\n",
       "</style>\n",
       "<table border=\"1\" class=\"dataframe\">\n",
       "  <thead>\n",
       "    <tr style=\"text-align: right;\">\n",
       "      <th></th>\n",
       "      <th>Iterations</th>\n",
       "      <th>ratio</th>\n",
       "      <th>Anorm</th>\n",
       "    </tr>\n",
       "  </thead>\n",
       "  <tbody>\n",
       "    <tr>\n",
       "      <th>0</th>\n",
       "      <td>1.0</td>\n",
       "      <td>5.352690e-01</td>\n",
       "      <td>3.518300e+06</td>\n",
       "    </tr>\n",
       "    <tr>\n",
       "      <th>1</th>\n",
       "      <td>4.0</td>\n",
       "      <td>5.003940e-01</td>\n",
       "      <td>2.087880e+06</td>\n",
       "    </tr>\n",
       "    <tr>\n",
       "      <th>2</th>\n",
       "      <td>21.0</td>\n",
       "      <td>3.973820e-02</td>\n",
       "      <td>5.075980e+05</td>\n",
       "    </tr>\n",
       "    <tr>\n",
       "      <th>3</th>\n",
       "      <td>100.0</td>\n",
       "      <td>3.711960e-03</td>\n",
       "      <td>5.798340e+04</td>\n",
       "    </tr>\n",
       "    <tr>\n",
       "      <th>4</th>\n",
       "      <td>464.0</td>\n",
       "      <td>1.245070e-04</td>\n",
       "      <td>1.143320e+04</td>\n",
       "    </tr>\n",
       "    <tr>\n",
       "      <th>5</th>\n",
       "      <td>2154.0</td>\n",
       "      <td>5.566180e-05</td>\n",
       "      <td>5.561980e+03</td>\n",
       "    </tr>\n",
       "    <tr>\n",
       "      <th>6</th>\n",
       "      <td>10000.0</td>\n",
       "      <td>3.878460e-06</td>\n",
       "      <td>8.318000e+02</td>\n",
       "    </tr>\n",
       "    <tr>\n",
       "      <th>7</th>\n",
       "      <td>46415.0</td>\n",
       "      <td>1.071530e-07</td>\n",
       "      <td>4.107230e+01</td>\n",
       "    </tr>\n",
       "    <tr>\n",
       "      <th>8</th>\n",
       "      <td>215443.0</td>\n",
       "      <td>6.054660e-11</td>\n",
       "      <td>2.259750e-02</td>\n",
       "    </tr>\n",
       "    <tr>\n",
       "      <th>9</th>\n",
       "      <td>1000000.0</td>\n",
       "      <td>4.086180e-33</td>\n",
       "      <td>2.679330e-07</td>\n",
       "    </tr>\n",
       "  </tbody>\n",
       "</table>\n",
       "</div>"
      ],
      "text/plain": [
       "   Iterations         ratio         Anorm\n",
       "0         1.0  5.352690e-01  3.518300e+06\n",
       "1         4.0  5.003940e-01  2.087880e+06\n",
       "2        21.0  3.973820e-02  5.075980e+05\n",
       "3       100.0  3.711960e-03  5.798340e+04\n",
       "4       464.0  1.245070e-04  1.143320e+04\n",
       "5      2154.0  5.566180e-05  5.561980e+03\n",
       "6     10000.0  3.878460e-06  8.318000e+02\n",
       "7     46415.0  1.071530e-07  4.107230e+01\n",
       "8    215443.0  6.054660e-11  2.259750e-02\n",
       "9   1000000.0  4.086180e-33  2.679330e-07"
      ]
     },
     "execution_count": 4,
     "metadata": {},
     "output_type": "execute_result"
    }
   ],
   "source": [
    "data"
   ]
  },
  {
   "cell_type": "code",
   "execution_count": 5,
   "metadata": {},
   "outputs": [
    {
     "data": {
      "image/png": "[encoded data removed]",
      "text/plain": [
       "<Figure size 800x600 with 1 Axes>"
      ]
     },
     "metadata": {},
     "output_type": "display_data"
    }
   ],
   "source": [
    "fig, ax = plt.subplots(1,1, figsize = (8,6))\n",
    "x = samples\n",
    "ax.plot(data['Iterations'].values, data['ratio'].values, label=r\"$||r_k||_2 / ||r_0||_2$\")\n",
    "ax.plot(data['Iterations'].values, data['Anorm'].values, label = ' A norm')\n",
    "ax.plot(x, 1/x, label = 'linear', c='grey', linestyle = '--')\n",
    "\n",
    "ax.set(yscale='log', xscale='log', ylabel = 'Errors', xlabel = 'Iterations', title='CG convergence'\n",
    "       ,aspect=0.25)\n",
    "ax.legend()\n",
    "ax.grid()"
   ]
  },
  {
   "cell_type": "code",
   "execution_count": 6,
   "metadata": {},
   "outputs": [],
   "source": [
    "fig.savefig(\"results.png\", dpi=400)"
   ]
  },
  {
   "cell_type": "code",
   "execution_count": null,
   "metadata": {},
   "outputs": [],
   "source": []
  }
 ],
 "metadata": {
  "kernelspec": {
   "display_name": "Python 3",
   "language": "python",
   "name": "python3"
  },
  "language_info": {
   "codemirror_mode": {
    "name": "ipython",
    "version": 3
   },
   "file_extension": ".py",
   "mimetype": "text/x-python",
   "name": "python",
   "nbconvert_exporter": "python",
   "pygments_lexer": "ipython3",
   "version": "3.11.6"
  }
 },
 "nbformat": 4,
 "nbformat_minor": 2
}
